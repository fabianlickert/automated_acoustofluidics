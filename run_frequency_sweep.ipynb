{
 "cells": [
  {
   "cell_type": "markdown",
   "id": "07460834",
   "metadata": {},
   "source": [
    "# Automated frequency sweep for acoustofluidic applications - 2023\n",
    "Author: Fabian Lickert\n",
    "Date: 02.01.2023"
   ]
  },
  {
   "cell_type": "markdown",
   "id": "a40961a4",
   "metadata": {},
   "source": [
    "## Import the neccessary classes"
   ]
  },
  {
   "cell_type": "code",
   "execution_count": 2,
   "id": "c2b4827c",
   "metadata": {},
   "outputs": [],
   "source": [
    "from drivers import control_valve as cv\n",
    "from drivers import control_signal_gen as csg\n",
    "from drivers import control_pump as cp\n",
    "from drivers.equalize_voltage import *\n",
    "\n",
    "import pco\n",
    "import os # communication with operating system\n",
    "from skimage import io\n",
    "import gc\n",
    "import csv\n",
    "import time\n",
    "import matplotlib.pyplot as plt"
   ]
  },
  {
   "cell_type": "markdown",
   "id": "72b8a37b",
   "metadata": {},
   "source": [
    "## Initialize the valve, camera and signal generator controlls"
   ]
  },
  {
   "cell_type": "code",
   "execution_count": null,
   "id": "f400356f",
   "metadata": {},
   "outputs": [],
   "source": [
    "valve = cv.ControlValve(bdr=19200, port='COM4')\n",
    "signal = csg.ControlSignalGenNew()\n",
    "pump = cp.ControlPump(bdr=115200, port='COM5')\n",
    "\n",
    "signal.set_voltage(0.1)\n",
    "pump.set_rate(500)\n",
    "\n",
    "target_voltage = 1\n",
    "delay_time = 8\n",
    "exposure_time = 2\n",
    "exposure_time_ns = 1E6*exposure_time\n",
    "fps_mhz = 25*1E3\n"
   ]
  },
  {
   "cell_type": "markdown",
   "id": "04aeea34",
   "metadata": {
    "tags": []
   },
   "source": [
    "## Perform a sweep in frequency"
   ]
  },
  {
   "cell_type": "code",
   "execution_count": null,
   "id": "64032c20",
   "metadata": {},
   "outputs": [],
   "source": [
    "try:\n",
    "\n",
    "    with pco.Camera() as cam:\n",
    "\n",
    "        cam.configuration = {'timestamp': 'binary & ascii'}\n",
    "        cam.sdk.set_delay_exposure_time(delay_time, 'ms', exposure_time, 'ms')\n",
    "        #cam.sdk.set_frame_rate(fps_mhz, exposure_time_ns)\n",
    "        cam.sdk.set_roi(1, 100, 2560, 1960)\n",
    "        #cam.sdk.set_trigger_mode('auto sequence')\n",
    "        #cam.sdk.set_hwio_signal(3, 'on', 'TTL', 'high level', 'off', 4, [0, 0, 0, 0])\n",
    "        #print(cam.sdk.get_hwio_signal(3))\n",
    "           \n",
    "        for f in range(1000000, 1100000, 10000):\n",
    "\n",
    "            print(f\"Recording movie at frequency f = {f}\")\n",
    "            filename = f\"mov_{f}_img_no_\"\n",
    "            \n",
    "            # set current frequency and start the signal generator\n",
    "            signal.set_freq(f)\n",
    "            \n",
    "            # stabilize voltage at 1 V\n",
    "            signal.reset_trigger()\n",
    "            \n",
    "            voltage_list = equalize_voltage(signal, 0.1, target_voltage, f)\n",
    "            \n",
    "            final_voltage = voltage_list[0]\n",
    "            set_voltage = voltage_list[1]\n",
    "            \n",
    "            print(f\"Voltage stabilized at: {final_voltage}\")\n",
    "\n",
    "            logging = True\n",
    "            if logging:\n",
    "                with open('voltage_log_WNB.csv', 'a', newline='') as file:\n",
    "                    writer = csv.writer(file)\n",
    "                    writer.writerow([f\"{f}\", f\"{final_voltage:.4}\", f\"{set_voltage:.4}\"])  \n",
    "\n",
    "            # set valve to position 1 for x seconds to flush the channel at defined rate\n",
    "            print(\"Flushing the channel\")\n",
    "            valve.set_pos(1)\n",
    "            pump.run()\n",
    "            time.sleep(10)\n",
    "            pump.stop()\n",
    "            print(\"Flushing finished.\")\n",
    "            \n",
    "            # Set valve to position 2 to stop the flow and stabilize for 10 seconds\n",
    "            time.sleep(10)\n",
    "            valve.set_pos(2)\n",
    "            time.sleep(10)\n",
    "            \n",
    "            signal.set_trigger(1, 0, 1)\n",
    "            signal.run()\n",
    "\n",
    "            # record 200 images\n",
    "            cam.record(number_of_images=200, mode='sequence')\n",
    "            images, metadatas = cam.images()\n",
    "\n",
    "            time.sleep(2)\n",
    "            signal.stop()\n",
    "\n",
    "            path = f\"img/freq_{f}/\"\n",
    "            print(path)\n",
    "            try:\n",
    "                os.mkdir(path)\n",
    "            except OSError as error:\n",
    "                print(error)    \n",
    "            \n",
    "            print(\"Saving the images...\")\n",
    "            name = \"image\"\n",
    "            count = 1\n",
    "            \n",
    "            for image in images:\n",
    "                io.imsave(path + name+\"{0:04d}.tif\".format(count), image, check_contrast=False)\n",
    "                count += 1\n",
    "            \n",
    "            print(\"Images saved!\")\n",
    "\n",
    "            del image\n",
    "            del images\n",
    "            del metadatas\n",
    "            \n",
    "            gc.collect()\n",
    "            \n",
    "except:\n",
    "\n",
    "    print(\"Found exception... aborting...\")\n",
    "    valve.close()\n",
    "    signal.close()\n",
    "    pump.close()\n"
   ]
  },
  {
   "cell_type": "markdown",
   "id": "24f01b76",
   "metadata": {},
   "source": [
    "## Close connections to all the instruments again"
   ]
  },
  {
   "cell_type": "code",
   "execution_count": null,
   "id": "8135b9a8",
   "metadata": {},
   "outputs": [],
   "source": [
    "valve.close()\n",
    "signal.close()\n",
    "pump.close()"
   ]
  }
 ],
 "metadata": {
  "kernelspec": {
   "display_name": "Python 3 (ipykernel)",
   "language": "python",
   "name": "python3"
  },
  "language_info": {
   "codemirror_mode": {
    "name": "ipython",
    "version": 3
   },
   "file_extension": ".py",
   "mimetype": "text/x-python",
   "name": "python",
   "nbconvert_exporter": "python",
   "pygments_lexer": "ipython3",
   "version": "3.10.0"
  }
 },
 "nbformat": 4,
 "nbformat_minor": 5
}
