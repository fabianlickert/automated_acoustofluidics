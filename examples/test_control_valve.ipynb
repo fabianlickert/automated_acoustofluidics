{
 "cells": [
  {
   "cell_type": "code",
   "execution_count": null,
   "id": "a54d996f-466f-41c3-b6f9-a098f6944a76",
   "metadata": {},
   "outputs": [],
   "source": [
    "# Add directory above current directory to path\n",
    "import sys; sys.path.insert(0, '..')\n",
    "from drivers import control_valve as cv"
   ]
  },
  {
   "cell_type": "code",
   "execution_count": null,
   "id": "931e2989",
   "metadata": {},
   "outputs": [],
   "source": [
    "import control_valve as cv\n",
    "\n",
    "valve = cv.ControlValve()\n",
    "valve.set_pos(1)\n",
    "print(valve.get_pos())\n",
    "valve.close()"
   ]
  }
 ],
 "metadata": {
  "kernelspec": {
   "display_name": "Python 3 (ipykernel)",
   "language": "python",
   "name": "python3"
  },
  "language_info": {
   "codemirror_mode": {
    "name": "ipython",
    "version": 3
   },
   "file_extension": ".py",
   "mimetype": "text/x-python",
   "name": "python",
   "nbconvert_exporter": "python",
   "pygments_lexer": "ipython3",
   "version": "3.10.0"
  }
 },
 "nbformat": 4,
 "nbformat_minor": 5
}
