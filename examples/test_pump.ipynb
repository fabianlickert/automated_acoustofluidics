{
 "cells": [
  {
   "cell_type": "code",
   "execution_count": null,
   "id": "7a19e49a-a4e0-4118-8516-69350d6cd233",
   "metadata": {},
   "outputs": [],
   "source": [
    "# Add directory above current directory to path\n",
    "import sys; sys.path.insert(0, '..')\n",
    "from drivers import control_pump as cp\n",
    "import time"
   ]
  },
  {
   "cell_type": "code",
   "execution_count": null,
   "id": "50bec241-e9ba-4e2f-b6ed-c3ccfa737340",
   "metadata": {},
   "outputs": [],
   "source": [
    "pump = cp.ControlPump()\n",
    "\n",
    "print(pump.get_rate())\n",
    "pump.set_rate(500)\n",
    "\n",
    "pump.run()\n",
    "time.sleep(10)\n",
    "pump.stop()\n",
    "pump.close()"
   ]
  }
 ],
 "metadata": {
  "kernelspec": {
   "display_name": "Python 3 (ipykernel)",
   "language": "python",
   "name": "python3"
  },
  "language_info": {
   "codemirror_mode": {
    "name": "ipython",
    "version": 3
   },
   "file_extension": ".py",
   "mimetype": "text/x-python",
   "name": "python",
   "nbconvert_exporter": "python",
   "pygments_lexer": "ipython3",
   "version": "3.10.0"
  }
 },
 "nbformat": 4,
 "nbformat_minor": 5
}
