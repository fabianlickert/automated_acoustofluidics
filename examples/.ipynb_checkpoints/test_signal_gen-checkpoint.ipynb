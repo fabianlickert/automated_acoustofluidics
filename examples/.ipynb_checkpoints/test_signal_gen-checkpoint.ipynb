{
 "cells": [
  {
   "cell_type": "code",
   "execution_count": null,
   "id": "6c35dfcc-56cf-4c4c-bf51-9d74057e9c6e",
   "metadata": {},
   "outputs": [],
   "source": [
    "# Add directory above current directory to path\n",
    "import sys; sys.path.insert(0, '..')\n",
    "from drivers import control_signal_gen as csg"
   ]
  },
  {
   "cell_type": "code",
   "execution_count": null,
   "id": "1572e7ed-a696-4326-910c-765d4a635080",
   "metadata": {},
   "outputs": [],
   "source": [
    "f = 10000\n",
    "init_voltage = 0.1\n",
    "target_voltage = 1\n",
    "\n",
    "signal = csg.ControlSignalGenNew()\n",
    "signal.set_voltage(init_voltage)\n",
    "signal.set_freq(f)\n",
    "\n",
    "signal.reset_trigger()\n",
    "signal.run()\n",
    "curVol = signal.read_voltage(f, 4000, 1)\n",
    "print(curVol)\n",
    "signal.stop()\n",
    "\n",
    "signal.reset_trigger()\n",
    "voltage_list = equalize_voltage(signal, init_voltage, target_voltage, f)\n",
    "\n",
    "signal.set_trigger(1, 0, 1)\n",
    "\n",
    "signal.run()\n",
    "time.sleep(2)\n",
    "signal.stop()\n",
    "\n",
    "signal.close()"
   ]
  }
 ],
 "metadata": {
  "kernelspec": {
   "display_name": "Python 3 (ipykernel)",
   "language": "python",
   "name": "python3"
  },
  "language_info": {
   "codemirror_mode": {
    "name": "ipython",
    "version": 3
   },
   "file_extension": ".py",
   "mimetype": "text/x-python",
   "name": "python",
   "nbconvert_exporter": "python",
   "pygments_lexer": "ipython3",
   "version": "3.10.0"
  }
 },
 "nbformat": 4,
 "nbformat_minor": 5
}
