{
 "cells": [
  {
   "cell_type": "code",
   "execution_count": null,
   "id": "8fd403c6-7da0-4627-a409-db6bc7d3b3d8",
   "metadata": {},
   "outputs": [],
   "source": [
    "# Add directory above current directory to path to correctly import drivers\n",
    "import sys; sys.path.insert(0, '..')\n",
    "\n",
    "# import the kinesis driver\n",
    "from drivers import control_kinesis as kinesis\n",
    "\n",
    "import time"
   ]
  },
  {
   "cell_type": "code",
   "execution_count": null,
   "id": "3b244b74-dfc4-4b00-86e8-c5605b5d46b3",
   "metadata": {},
   "outputs": [],
   "source": [
    "# specify the serial number of the KCube\n",
    "sn = \"27255565\"\n",
    "\n",
    "# initialize the motor\n",
    "try:\n",
    "    motor1 = kinesis.KCube(sn)\n",
    "    print('Motor initialized.')\n",
    "    \n",
    "except:\n",
    "    print('Failed to initialize motor.')\n",
    "\n",
    "# home the motor\n",
    "if (not motor1.is_homed()):\n",
    "    print('Homing the motor')\n",
    "    motor1.home()\n",
    "    time.sleep(1)\n",
    "\n",
    "print('Motor is homed')\n",
    "\n",
    "# get the current position of the motor\n",
    "print(motor1.get_position())\n",
    "\n",
    "# move the motor to a specified position\n",
    "motor1.move_to(3.14)\n",
    "print(motor1.get_position())\n",
    "\n",
    "# move the motor relative to its current position\n",
    "for i in range(1,10):\n",
    "    motor1.move_relative(-1)\n",
    "    print(motor1.get_position())\n",
    "\n",
    "# disconnect the motor\n",
    "motor1.kill()"
   ]
  }
 ],
 "metadata": {
  "kernelspec": {
   "display_name": "Python 3 (ipykernel)",
   "language": "python",
   "name": "python3"
  },
  "language_info": {
   "codemirror_mode": {
    "name": "ipython",
    "version": 3
   },
   "file_extension": ".py",
   "mimetype": "text/x-python",
   "name": "python",
   "nbconvert_exporter": "python",
   "pygments_lexer": "ipython3",
   "version": "3.10.0"
  }
 },
 "nbformat": 4,
 "nbformat_minor": 5
}
