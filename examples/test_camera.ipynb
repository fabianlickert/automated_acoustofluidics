{
 "cells": [
  {
   "cell_type": "code",
   "execution_count": null,
   "id": "7195e950-abe0-4121-a057-e75c625c4efc",
   "metadata": {},
   "outputs": [],
   "source": [
    "# Add directory above current directory to path\n",
    "import sys; sys.path.insert(0, '..')\n",
    "from drivers import control_camera as cc"
   ]
  },
  {
   "cell_type": "code",
   "execution_count": null,
   "id": "8defbba4-69c5-4535-b813-fe52af6bcf16",
   "metadata": {
    "scrolled": true
   },
   "outputs": [],
   "source": [
    "camera = cc.ControlCamera(0, 100)\n",
    "camera.record_image('img1')\n",
    "camera.record_movie('mov1', 10)\n",
    "#camera.show_image(0, 1000)\n",
    "camera.close()"
   ]
  }
 ],
 "metadata": {
  "kernelspec": {
   "display_name": "Python 3 (ipykernel)",
   "language": "python",
   "name": "python3"
  },
  "language_info": {
   "codemirror_mode": {
    "name": "ipython",
    "version": 3
   },
   "file_extension": ".py",
   "mimetype": "text/x-python",
   "name": "python",
   "nbconvert_exporter": "python",
   "pygments_lexer": "ipython3",
   "version": "3.10.0"
  }
 },
 "nbformat": 4,
 "nbformat_minor": 5
}
